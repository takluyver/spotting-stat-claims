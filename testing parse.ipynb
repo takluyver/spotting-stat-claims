{
 "cells": [
  {
   "cell_type": "code",
   "execution_count": 3,
   "metadata": {
    "collapsed": true
   },
   "outputs": [],
   "source": [
    "import lxml.etree"
   ]
  },
  {
   "cell_type": "code",
   "execution_count": 2,
   "metadata": {
    "collapsed": true
   },
   "outputs": [],
   "source": [
    "src = \"hansard/src/debates2016-01-12b.xml\""
   ]
  },
  {
   "cell_type": "code",
   "execution_count": 5,
   "metadata": {},
   "outputs": [],
   "source": [
    "tree = lxml.etree.parse(src)"
   ]
  },
  {
   "cell_type": "code",
   "execution_count": 17,
   "metadata": {},
   "outputs": [],
   "source": [
    "s = tree.xpath('/publicwhip/speech')[5]"
   ]
  },
  {
   "cell_type": "code",
   "execution_count": 18,
   "metadata": {},
   "outputs": [
    {
     "data": {
      "text/plain": [
       "<Element speech at 0x7f8f6812f048>"
      ]
     },
     "execution_count": 18,
     "metadata": {},
     "output_type": "execute_result"
    }
   ],
   "source": [
    "s"
   ]
  },
  {
   "cell_type": "code",
   "execution_count": 19,
   "metadata": {},
   "outputs": [
    {
     "data": {
      "text/plain": [
       "['Before I answer, let me take a few seconds to update the House on the breaking news coming in from Istanbul, where an explosion has occurred in the Sultanahmet area, killing at least 10 people, with many more injured. This is a tourist area of the city and we already know that some tourists are involved in this incident. We are seeking to verify whether any British nationals are involved, and if we get any news on that in the course of the next hour, I will update the House accordingly. In the meantime, I offer my sympathies to the victims, their families and everyone else affected by the attack. [Hon. Members: “Hear, hear.”]',\n",
       " 'The Government are negotiating reform of the European Union and a new relationship for Britain with the European Union to fix the aspects of our membership that cause so much frustration in Britain. Following a substantive and constructive discussion at the December European Council, member states agreed to work towards mutually satisfactory solutions at the February European Council.']"
      ]
     },
     "execution_count": 19,
     "metadata": {},
     "output_type": "execute_result"
    }
   ],
   "source": [
    "s.xpath('p/text()')"
   ]
  },
  {
   "cell_type": "code",
   "execution_count": 20,
   "metadata": {},
   "outputs": [
    {
     "data": {
      "text/plain": [
       "{'speakername': 'Philip Hammond', 'id': 'uk.org.publicwhip/debate/2016-01-12b.681.8', 'colnum': '681', 'url': 'http://www.publications.parliament.uk/pa/cm201516/cmhansrd/cm160112/debtext/160112-0001.htm#160112-0001.htm_spmin0', 'time': '11:30:00', 'speakeroffice': 'The Secretary of State for Foreign and Commonwealth Affairs', 'person_id': 'uk.org.publicwhip/person/10257'}"
      ]
     },
     "execution_count": 20,
     "metadata": {},
     "output_type": "execute_result"
    }
   ],
   "source": [
    "s.attrib"
   ]
  },
  {
   "cell_type": "code",
   "execution_count": 22,
   "metadata": {},
   "outputs": [
    {
     "data": {
      "text/plain": [
       "'Philip Hammond'"
      ]
     },
     "execution_count": 22,
     "metadata": {},
     "output_type": "execute_result"
    }
   ],
   "source": [
    "s.attrib.get('speakername', '(no speaker)')"
   ]
  },
  {
   "cell_type": "code",
   "execution_count": 32,
   "metadata": {},
   "outputs": [
    {
     "data": {
      "text/plain": [
       "<module 'show' from '/home/takluyver/Code/spotting-stat-claims/show.py'>"
      ]
     },
     "execution_count": 32,
     "metadata": {},
     "output_type": "execute_result"
    }
   ],
   "source": [
    "import show\n",
    "import importlib\n",
    "importlib.reload(show)"
   ]
  },
  {
   "cell_type": "code",
   "execution_count": 33,
   "metadata": {
    "scrolled": false
   },
   "outputs": [
    {
     "name": "stdout",
     "output_type": "stream",
     "text": [
      "\u001b[1m[no speaker]\u001b[22m at 11:30:00\n",
      "…ary of State was asked—…\n",
      "\n",
      "\u001b[1mAngela Rayner\u001b[22m at 11:30:00\n",
      "…ssions he has had in the Council of the EU as part of negotiations on the UK’s m…\n",
      "\n",
      "\u001b[1mDavid Hanson\u001b[22m at 11:30:00\n",
      "…ssions he has had in the Council of the EU on the Prime Minister's letter dated …\n",
      "…esident of the European Council as part of negotiations on the UK's membership o…\n",
      "\n",
      "\u001b[1mDavid Nuttall\u001b[22m at 11:30:00\n",
      "…ess the Government has made on the renegotiation of the UK's terms of membership…\n",
      "\n",
      "\u001b[1mDamian Green\u001b[22m at 11:30:00\n",
      "…ess has been made on negotiations to reform the EU and the UK's relationship wit…\n",
      "\n",
      "\u001b[1mPhilip Hammond\u001b[22m at 11:30:00\n",
      "…nswer, let me take a few seconds to update the House on the breaking news coming…\n",
      "…ment are negotiating reform of the European Union and a new relationship for Bri…\n",
      "\n",
      "\u001b[1mAngela Rayner\u001b[22m at 11:30:00\n",
      "… Secretary of State’s sentiments regarding the situation in Istanbul. Does he ac…\n",
      "\n",
      "\u001b[1mPhilip Hammond\u001b[22m at 11:30:00\n",
      "…trary—a successful negotiation will set the EU on a clear course to create jobs …\n",
      "\n",
      "\u001b[1mDavid Hanson\u001b[22m at 11:30:00\n",
      "… of …\n",
      "… It is also clear that whatever the outcome of the discussions on that letter, n…\n",
      "\n",
      "\u001b[1mPhilip Hammond\u001b[22m at 11:30:00\n",
      "…Minister has been clear throughout that once we have an agreed deal, he will mak…\n",
      "\n",
      "\u001b[1mDavid Nuttall\u001b[22m at 11:30:00\n",
      "…e are suspicious about the seriousness of this renegotiation when three of the s…\n",
      "\n",
      "\u001b[1mPhilip Hammond\u001b[22m at 11:30:00\n",
      "… that we have seen, particularly under the present Commission, some very welcome…\n",
      "\n",
      "\u001b[1mDamian Green\u001b[22m at 11:30:00\n",
      "…f the Prime Minister’s demands in these negotiations are important, but making s…\n",
      "\n",
      "\u001b[1mPhilip Hammond\u001b[22m at 11:30:00\n",
      "…on. Friend will know, and opinion polling shows, that many people in this countr…\n",
      "\n",
      "\u001b[1mAlex Salmond\u001b[22m at 11:30:00\n",
      "…ts of everyone on these Benches will obviously be with those caught up in the in…\n",
      "…stand it, the Prime Minister has called for a “united, harmonious and mutually r…\n",
      "\n",
      "\u001b[1mPhilip Hammond\u001b[22m at 11:30:00\n",
      "…ht hon. Gentleman knows, that is not what the Bill provides for. But given the t…\n",
      "\n",
      "\u001b[1mAlex Salmond\u001b[22m at 11:30:00\n",
      "…o the Foreign Secretary that if the referendum were held within six weeks after …\n",
      "\n",
      "\u001b[1mPhilip Hammond\u001b[22m at 11:30:00\n",
      "…trying to convey to the right hon. Gentleman is that that is not what the Bill p…\n",
      "\n",
      "\u001b[1mDaniel Kawczynski\u001b[22m at 11:30:00\n",
      "…t the Foreign Secretary is aware that the overwhelming majority of the 800,000 P…\n",
      "\n",
      "\u001b[1mPhilip Hammond\u001b[22m at 11:30:00\n",
      "…cted to, and have to, address the concerns of the British people, and there are …\n",
      "\n",
      "\u001b[1mJohn Spellar\u001b[22m at 11:30:00\n",
      "…ough the Secretary of State, thank the Europe Minister for meeting an MPs’ deleg…\n",
      "\n",
      "\u001b[1mPhilip Hammond\u001b[22m at 11:30:00\n",
      "…lowing the case closely and we have already made the Portuguese authorities awar…\n",
      "\n",
      "\u001b[1mMark Field\u001b[22m at 11:30:00\n",
      "…ot raised in the letter of …\n",
      "…of national security. Would the Foreign Secretary like to tell us a little about…\n",
      "\n",
      "\u001b[1mPhilip Hammond\u001b[22m at 11:30:00\n",
      "…t hon. Friend knows, national security is reserved to the member states and we r…\n",
      "\n",
      "\u001b[1mPat Glass\u001b[22m at 11:30:00\n",
      "…t thank the Secretary of State for the update on the situation in Istanbul? Of c…\n",
      "…aigning to leave the European Union have made much of the unrealistic argument t…\n",
      "\n",
      "\u001b[1mPhilip Hammond\u001b[22m at 11:30:00\n",
      "…st welcome the hon. Lady to her position on the Front Bench. Indeed, let me welc…\n",
      "…ton South East (Mr McFadden). It is a sad indictment of today’s Labour party tha…\n",
      "…ar that Britain benefits from access to the single market. If Britain voted to l…\n",
      "\n",
      "\u001b[1mOliver Dowden\u001b[22m at 11:30:00\n",
      "…t representations he has made to the Iranian Government on the case of Mr Kamal …\n",
      "\n",
      "\u001b[1mTobias Ellwood\u001b[22m at 11:30:00\n",
      "… Friend is aware, Iran does not recognise dual nationality, so we have not been …\n",
      "\n",
      "\u001b[1mOliver Dowden\u001b[22m at 11:30:00\n",
      "…i is now 76 years of age, and there are serious concerns about his health, inclu…\n",
      "\n",
      "\u001b[1mTobias Ellwood\u001b[22m at 11:30:00\n",
      "…ful to my hon. Friend for organising a meeting in December with his constituent,…\n",
      "…argé d’affaires with the deputy secretary-general of the Iranian High Council fo…\n",
      "\n",
      "\u001b[1mVictoria Prentis\u001b[22m at 11:30:00\n",
      "…matic support the Government are providing to the countries surrounding Syria to…\n",
      "\n",
      "\u001b[1mPhilip Hammond\u001b[22m at 11:30:00\n",
      "… provided £559 million to help the 4.6 million Syrian refugees in neighbouring c…\n",
      "\n",
      "\u001b[1mVictoria Prentis\u001b[22m at 11:30:00\n",
      "…ght hon. Friend agree that the UK can be proud of the response to the UN appeal …\n",
      "\n",
      "\u001b[1mMichael Fabricant\u001b[22m at 11:30:00\n",
      "…song!…\n",
      "\n",
      "\u001b[1mVictoria Prentis\u001b[22m at 11:30:00\n",
      "… give the House a song, but I might be able to give the final figure at some tim…\n",
      "…ght hon. Friend agree that other countries should follow our lead?…\n",
      "\n",
      "\u001b[1mPhilip Hammond\u001b[22m at 11:30:00\n",
      "… very much welcome my hon. Friend’s Singing for Syrians initiative. That and ini…\n",
      "…just ask people to pledge additional money. We will go to the conference with in…\n",
      "\n",
      "\u001b[1mJohn Woodcock\u001b[22m at 11:30:00\n",
      "… there would be fewer displaced people to Syria’s neighbours if Russia stopped i…\n",
      "\n",
      "\u001b[1mPhilip Hammond\u001b[22m at 11:30:00\n",
      "…gular representations to the Russians, first about the indiscriminate nature of …\n",
      "\n",
      "\u001b[1mNusrat Ghani\u001b[22m at 11:30:00\n",
      "…in Syria and the region requires the removal of Daesh. Will the Secretary of Sta…\n",
      "\n",
      "\u001b[1mPhilip Hammond\u001b[22m at 11:30:00\n",
      "…the congratulations to the Iraqi armed forces on their achievement in liberating…\n",
      "\n",
      "\u001b[1mTasmina Ahmed-Sheikh\u001b[22m at 11:30:00\n",
      "…the Secretary of State for International Development confirmed that yesterday ma…\n",
      "\n",
      "\u001b[1mPhilip Hammond\u001b[22m at 11:30:00\n",
      "…on. Friend the Secretary of State for International Development made a statement…\n",
      "\n",
      "\u001b[1mGisela Stuart\u001b[22m at 11:30:00\n",
      "…currently some 16,000 refugees on the Syrian side of the Jordanian border, and J…\n",
      "\n",
      "\u001b[1mPhilip Hammond\u001b[22m at 11:30:00\n",
      "…ping and supporting the Jordanians with the Zaatari refugee camp. As I have said…\n",
      "\n",
      "\u001b[1mJason McCartney\u001b[22m at 11:30:00\n",
      "…t assessment he has made of the political situation in Ukraine and the prospects…\n",
      "\n",
      "\u001b[1mDavid Lidington\u001b[22m at 11:30:00\n",
      "… facing multiple challenges, both over domestic reform and the security situatio…\n",
      "\n",
      "\u001b[1mJason McCartney\u001b[22m at 11:30:00\n",
      "…ed Ukrainian Christmas with Huddersfield and Colne Valley’s Ukrainian community …\n",
      "\n",
      "\u001b[1mDavid Lidington\u001b[22m at 11:30:00\n",
      "…or the implementation of the ceasefire and the withdrawal of weapons were among …\n",
      "\n",
      "\u001b[1mConor McGinn\u001b[22m at 11:30:00\n",
      "…Minsk agreement, the Organisation for Security and Co-operation in Europe is cha…\n",
      "\n",
      "\u001b[1mDavid Lidington\u001b[22m at 11:30:00\n",
      "…cussed those points directly with Michael Link, the director of the OSCE Office …\n",
      "\n",
      "\u001b[1mJonathan Djanogly\u001b[22m at 11:30:00\n",
      "…ght hon. Friend confirm that, in any discussions the Government have with Russia…\n",
      "\n",
      "\u001b[1mDavid Lidington\u001b[22m at 11:30:00\n",
      "… my hon. Friend an unqualified assurance on that point. We will continue to talk…\n",
      "\n",
      "\u001b[1mMr Speaker\u001b[22m at 11:30:00\n",
      "…ell. I call Sir Gerald Howarth.…\n",
      "\n",
      "\u001b[1mGerald Howarth\u001b[22m at 11:30:00\n",
      "…ful to you, Mr Speaker. As my right hon. Friend knows, corruption is a major pro…\n",
      "\n",
      "\u001b[1mDavid Lidington\u001b[22m at 11:30:00\n",
      "…iend puts his finger on one of the central challenges facing the Ukrainian Gover…\n",
      "\n",
      "\u001b[1mMeg Hillier\u001b[22m at 11:30:00\n",
      "…ess has been made on reaching an international agreement on terror financing.…\n",
      "\n",
      "\u001b[1mTobias Ellwood\u001b[22m at 11:30:00\n",
      "…nd of the strategy to defeat Daesh is to cut off its financing. A series of inte…\n",
      "\n",
      "\u001b[1mMeg Hillier\u001b[22m at 11:30:00\n",
      "…e Minister for that response, but will he outline what specific steps are being …\n",
      "\n",
      "\u001b[1mTobias Ellwood\u001b[22m at 11:30:00\n",
      "…ady is right to highlight the importance of oil sales to Daesh, which accounts f…\n",
      "\n",
      "\u001b[1mStephen Phillips\u001b[22m at 11:30:00\n",
      "…ational convention for the suppression of the financing of terrorism has receive…\n",
      "\n",
      "\u001b[1mTobias Ellwood\u001b[22m at 11:30:00\n",
      "…d learned Friend is right to articulate the loopholes that still exist. We are h…\n",
      "\n",
      "\u001b[1mGraham Jones\u001b[22m at 11:30:00\n",
      "…s clearly flowing out of ISIL towards Afghanistan to fund its huge operations th…\n",
      "\n",
      "\u001b[1mTobias Ellwood\u001b[22m at 11:30:00\n",
      "…entleman is correct. It is not only finances that are moving out of Iraq and Syr…\n",
      "\n",
      "\u001b[1mNigel Evans\u001b[22m at 11:30:00\n",
      "…d and eighty-seven countries have ratified the international convention for the …\n",
      "\n",
      "\u001b[1mTobias Ellwood\u001b[22m at 11:30:00\n",
      "…iend is right to articulate that point. This is the main funding source that is …\n",
      "\n",
      "\u001b[1mDiana R. Johnson\u001b[22m at 11:30:00\n",
      "…on from the question from my hon. Friend …\n",
      "…ate by Associated Press at the end of October 2015 was that between 40,000 and 5…\n",
      "\n",
      "\u001b[1mTobias Ellwood\u001b[22m at 11:30:00\n",
      "…clear that there is an estimate that Daesh is receiving between $2.5 million and…\n",
      "\n",
      "\u001b[1mMike Freer\u001b[22m at 11:30:00\n",
      "… the Government are taking to promote trade and diplomatic connections with othe…\n",
      "\n",
      "\u001b[1mHugo Swire\u001b[22m at 11:30:00\n",
      "… Kingdom is committed to strengthening its engagement with the Commonwealth. My …\n",
      "\n",
      "\u001b[1mMike Freer\u001b[22m at 11:30:00\n",
      "…ful for that answer. Given that three quarters of UK-Commonwealth trade is with …\n",
      "\n",
      "\u001b[1mHugo Swire\u001b[22m at 11:30:00\n",
      "…iend makes a good point. This question affords me the opportunity to pay tribute…\n",
      "…a, we had the biggest ever Commonwealth business forum, which was organised by m…\n",
      "\n",
      "\u001b[1mChi Onwurah\u001b[22m at 11:30:00\n",
      "… all-party group, which I chair, recently met governmental and non-governmental …\n",
      "\n",
      "\u001b[1mHugo Swire\u001b[22m at 11:30:00\n",
      "… trade deals involving 17 Commonwealth countries, and it is currently negotiatin…\n",
      "\n",
      "\u001b[1mMims Davies\u001b[22m at 11:30:00\n",
      "…inister agree that we cannot just wait for the result of the referendum on our m…\n",
      "\n",
      "\u001b[1mMr Speaker\u001b[22m at 11:30:00\n",
      "…ger by the hon. Lady.…\n",
      "\n",
      "\u001b[1mHugo Swire\u001b[22m at 11:30:00\n",
      "… Mr Speaker. We are a key member of the Commonwealth, and we know that trade bet…\n",
      "\n",
      "\u001b[1mValerie Vaz\u001b[22m at 11:30:00\n",
      "…tly thrown by the Minister’s last words, Mr Speaker.…\n",
      "…monwealth Heads of Government meeting in November, the first ever women’s forum …\n",
      "\n",
      "\u001b[1mHugo Swire\u001b[22m at 11:30:00\n",
      "…d the hon. Lady will know, as I do, that the Commonwealth charter focuses on suc…\n",
      "\n",
      "\u001b[1mAndrew Rosindell\u001b[22m at 11:30:00\n",
      "…er will know that Commonwealth countries represent some of the most important fu…\n",
      "\n",
      "\u001b[1mHugo Swire\u001b[22m at 11:30:00\n",
      "…o my hon. Friend that we want to encourage trade within the Commonwealth, and as…\n",
      "\n",
      "\u001b[1mFabian Hamilton\u001b[22m at 11:30:00\n",
      "…een Commonwealth member Rwanda and the UK has grown steadily since the end of th…\n",
      "\n",
      "\u001b[1mHugo Swire\u001b[22m at 11:30:00\n",
      "…the hon. Gentleman to his position on the Front Bench. The Under-Secretary of St…\n",
      "\n",
      "\u001b[1mCraig Williams\u001b[22m at 11:30:00\n",
      "…t assessment he has made of the strength of diplomatic and economic relations be…\n",
      "\n",
      "\u001b[1mPhilip Hammond\u001b[22m at 11:30:00\n",
      "…atic and economic relationships with China are stronger than ever. Last year’s s…\n",
      "\n",
      "\u001b[1mCraig Williams\u001b[22m at 11:30:00\n",
      "…my right hon. Friend’s recent visit to China. Does he agree that with China set …\n",
      "\n",
      "\u001b[1mPhilip Hammond\u001b[22m at 11:30:00\n",
      "… vital trade partner. It is also an important investment partner, with a huge wi…\n",
      "\n",
      "\u001b[1mMargaret Ritchie\u001b[22m at 11:30:00\n",
      "…tunities will arise for those who wish to export food produce from the United Ki…\n",
      "\n",
      "\u001b[1mPhilip Hammond\u001b[22m at 11:30:00\n",
      "…ady puts her finger on a very topical subject. I discussed it again with the Chi…\n",
      "\n",
      "\u001b[1mRichard Graham\u001b[22m at 11:30:00\n",
      "…gic partnership with China is incredibly important, not least to trade and inves…\n",
      "\n",
      "\u001b[1mPhilip Hammond\u001b[22m at 11:30:00\n",
      "…n. Friend is absolutely right that a proper rule of law system is vital for the …\n",
      "\n",
      "\u001b[1mAngela Smith\u001b[22m at 11:30:00\n",
      "…ourse right for the Government to pursue a stronger relationship with China, but…\n",
      "\n",
      "\u001b[1mPhilip Hammond\u001b[22m at 11:30:00\n",
      "…ady is absolutely right. We raised this issue with President Xi when he was here…\n",
      "\n",
      "\u001b[1mCatherine West\u001b[22m at 11:30:00\n",
      "…late the Secretary of State on the common statement, between the UK and China, o…\n",
      "\n",
      "\u001b[1mPhilip Hammond\u001b[22m at 11:30:00\n",
      "…y, such incidents do occur in China, but we have a forum for raising concerns, t…\n",
      "\n",
      "\u001b[1mMr Speaker\u001b[22m at 11:30:00\n",
      "…sed to wonder why Foreign Office questions took longer. A senior Clerk said to m…\n",
      "\n",
      "\u001b[1mAndrew Gwynne\u001b[22m at 11:30:00\n",
      "…sment he has made of the implications for his policies of the findings of the Wa…\n",
      "\n",
      "\u001b[1mJames Duddridge\u001b[22m at 11:30:00\n",
      "…ernment take child safeguarding in the overseas territories extremely seriously.…\n",
      "\n",
      "\u001b[1mAndrew Gwynne\u001b[22m at 11:30:00\n",
      "…eport notes, at paragraph 1.48, that…\n",
      "… be recognised that Claire Gannon was not properly briefed for the task that con…\n",
      "… responsibility of the Foreign Office, the Department for International Developm…\n",
      "\n",
      "\u001b[1mJames Duddridge\u001b[22m at 11:30:00\n",
      "…ll governors going out to overseas territories, the Foreign Office organises ext…\n",
      "…ct was central to the Joint Ministerial Council only last month; in fact, it was…\n",
      "\n"
     ]
    }
   ],
   "source": [
    "for speech in tree.xpath('/publicwhip/speech')[:100]:\n",
    "    show.show_claims(speech)"
   ]
  },
  {
   "cell_type": "code",
   "execution_count": null,
   "metadata": {
    "collapsed": true
   },
   "outputs": [],
   "source": []
  }
 ],
 "metadata": {
  "kernelspec": {
   "display_name": "Python 3",
   "language": "python",
   "name": "python3"
  },
  "language_info": {
   "codemirror_mode": {
    "name": "ipython",
    "version": 3
   },
   "file_extension": ".py",
   "mimetype": "text/x-python",
   "name": "python",
   "nbconvert_exporter": "python",
   "pygments_lexer": "ipython3",
   "version": "3.5.3"
  }
 },
 "nbformat": 4,
 "nbformat_minor": 2
}
